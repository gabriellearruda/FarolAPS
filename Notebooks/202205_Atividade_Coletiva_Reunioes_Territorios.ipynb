{
  "nbformat": 4,
  "nbformat_minor": 0,
  "metadata": {
    "colab": {
      "name": "202205_Atividade_Coletiva_Reunioes_Territorios.ipynb",
      "provenance": [],
      "authorship_tag": "ABX9TyPLqyhenEWKDYzVX++WZsMN",
      "include_colab_link": true
    },
    "kernelspec": {
      "name": "python3",
      "display_name": "Python 3"
    },
    "language_info": {
      "name": "python"
    }
  },
  "cells": [
    {
      "cell_type": "markdown",
      "metadata": {
        "id": "view-in-github",
        "colab_type": "text"
      },
      "source": [
        "<a href=\"https://colab.research.google.com/github/gabriellearruda/FarolAPS/blob/main/Notebooks/202205_Atividade_Coletiva_Reunioes_Territorios.ipynb\" target=\"_parent\"><img src=\"https://colab.research.google.com/assets/colab-badge.svg\" alt=\"Open In Colab\"/></a>"
      ]
    },
    {
      "cell_type": "markdown",
      "source": [
        "# Análise do perfil dos municipios e de suas atividades quanto a monitoramento do territorio\n",
        "\n",
        "Este notebook consome dados públicos do  Sistema de Informação em Saúde para a Atenção Básica (SISAB) e de informações auxiliares como IBGE, com intenção de determinar o perfil dos municipios e de suas atividades quanto a monitoramento do territorio.\n",
        "\n",
        "As análises estão limitadas a datas a partir de abril de 2013. \n",
        "\n",
        "\n",
        "### Fonte dos dados\n",
        "Os dados são provenientes do site do SISAB, disponível em: https://sisab.saude.gov.br/paginas/acessoRestrito/relatorio/federal/saude/RelSauAtivColetiva.xhtml. \n",
        "O download e processamento dos dados utiliza requisição http feitas internamente como segue abaixo."
      ],
      "metadata": {
        "id": "f6gTZOZPP1iV"
      }
    },
    {
      "cell_type": "markdown",
      "source": [
        "## Preparação do ambiente"
      ],
      "metadata": {
        "id": "dBD1a7fMRbfo"
      }
    },
    {
      "cell_type": "code",
      "execution_count": 1,
      "metadata": {
        "id": "-iZCDStgNYXO"
      },
      "outputs": [],
      "source": [
        "import pandas as pd"
      ]
    },
    {
      "cell_type": "markdown",
      "source": [
        "## Requisição e tratamento dos dados"
      ],
      "metadata": {
        "id": "AOcRGK5QRdzZ"
      }
    },
    {
      "cell_type": "code",
      "source": [
        "dados = pd.read_csv(\"/content/RelAtvColetivaMB (2).csv\", header=None, encoding = 'unicode_escape')"
      ],
      "metadata": {
        "id": "KjJY-bCjRhYg"
      },
      "execution_count": 6,
      "outputs": []
    }
  ]
}